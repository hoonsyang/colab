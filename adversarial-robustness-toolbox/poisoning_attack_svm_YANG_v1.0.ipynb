{
  "nbformat": 4,
  "nbformat_minor": 0,
  "metadata": {
    "kernelspec": {
      "name": "python3",
      "display_name": "Python 3"
    },
    "language_info": {
      "codemirror_mode": {
        "name": "ipython",
        "version": 3
      },
      "file_extension": ".py",
      "mimetype": "text/x-python",
      "name": "python",
      "nbconvert_exporter": "python",
      "pygments_lexer": "ipython3",
      "version": "3.7.3"
    },
    "colab": {
      "name": "poisoning_attack_svm_YANG_v1.0.ipynb",
      "provenance": [],
      "collapsed_sections": [],
      "include_colab_link": true
    },
    "accelerator": "GPU"
  },
  "cells": [
    {
      "cell_type": "markdown",
      "metadata": {
        "id": "view-in-github",
        "colab_type": "text"
      },
      "source": [
        "<a href=\"https://colab.research.google.com/github/hoonsyang/colab/blob/master/adversarial-robustness-toolbox/poisoning_attack_svm_YANG_v1.0.ipynb\" target=\"_parent\"><img src=\"https://colab.research.google.com/assets/colab-badge.svg\" alt=\"Open In Colab\"/></a>"
      ]
    },
    {
      "cell_type": "code",
      "metadata": {
        "id": "RfGj9cQrPgPv",
        "colab_type": "code",
        "outputId": "7359f03c-221b-4e00-ab58-978c5c3d9b0c",
        "colab": {
          "base_uri": "https://localhost:8080/",
          "height": 127
        }
      },
      "source": [
        "from google.colab import drive\n",
        "drive.mount('/content/drive')"
      ],
      "execution_count": 0,
      "outputs": [
        {
          "output_type": "stream",
          "text": [
            "Go to this URL in a browser: https://accounts.google.com/o/oauth2/auth?client_id=947318989803-6bn6qk8qdgf4n4g3pfee6491hc0brc4i.apps.googleusercontent.com&redirect_uri=urn%3aietf%3awg%3aoauth%3a2.0%3aoob&response_type=code&scope=email%20https%3a%2f%2fwww.googleapis.com%2fauth%2fdocs.test%20https%3a%2f%2fwww.googleapis.com%2fauth%2fdrive%20https%3a%2f%2fwww.googleapis.com%2fauth%2fdrive.photos.readonly%20https%3a%2f%2fwww.googleapis.com%2fauth%2fpeopleapi.readonly\n",
            "\n",
            "Enter your authorization code:\n",
            "··········\n",
            "Mounted at /content/drive\n"
          ],
          "name": "stdout"
        }
      ]
    },
    {
      "cell_type": "code",
      "metadata": {
        "id": "ErYAPubZQqSD",
        "colab_type": "code",
        "colab": {}
      },
      "source": [
        "import os\n",
        "os.chdir('/content/drive/My Drive/Adversarial/adversarial-robustness-toolbox/notebooks')"
      ],
      "execution_count": 0,
      "outputs": []
    },
    {
      "cell_type": "markdown",
      "metadata": {
        "id": "L1d1A9vxPGsT",
        "colab_type": "text"
      },
      "source": [
        "# Adversarial Robustness Toolbox for Poisoning Attacks on Support Vector Machines (SVM) using Scikitlearn's SVC"
      ]
    },
    {
      "cell_type": "markdown",
      "metadata": {
        "id": "ToLP2c1nPGsW",
        "colab_type": "text"
      },
      "source": [
        "In this notebook, we will learn how to use ART to run a poisoning attack on Support Vector Machines. We will be training our data on a subset of the IRIS dataset."
      ]
    },
    {
      "cell_type": "code",
      "metadata": {
        "id": "_dpmkyFsPGsX",
        "colab_type": "code",
        "outputId": "efda6292-cd01-49af-e907-17ce92e65d9f",
        "colab": {
          "resources": {
            "http://localhost:8080/data/images/svm_poly.gif": {
              "data": "CjwhRE9DVFlQRSBodG1sPgo8aHRtbCBsYW5nPWVuPgogIDxtZXRhIGNoYXJzZXQ9dXRmLTg+CiAgPG1ldGEgbmFtZT12aWV3cG9ydCBjb250ZW50PSJpbml0aWFsLXNjYWxlPTEsIG1pbmltdW0tc2NhbGU9MSwgd2lkdGg9ZGV2aWNlLXdpZHRoIj4KICA8dGl0bGU+RXJyb3IgNDA0IChOb3QgRm91bmQpISExPC90aXRsZT4KICA8c3R5bGU+CiAgICAqe21hcmdpbjowO3BhZGRpbmc6MH1odG1sLGNvZGV7Zm9udDoxNXB4LzIycHggYXJpYWwsc2Fucy1zZXJpZn1odG1se2JhY2tncm91bmQ6I2ZmZjtjb2xvcjojMjIyO3BhZGRpbmc6MTVweH1ib2R5e21hcmdpbjo3JSBhdXRvIDA7bWF4LXdpZHRoOjM5MHB4O21pbi1oZWlnaHQ6MTgwcHg7cGFkZGluZzozMHB4IDAgMTVweH0qID4gYm9keXtiYWNrZ3JvdW5kOnVybCgvL3d3dy5nb29nbGUuY29tL2ltYWdlcy9lcnJvcnMvcm9ib3QucG5nKSAxMDAlIDVweCBuby1yZXBlYXQ7cGFkZGluZy1yaWdodDoyMDVweH1we21hcmdpbjoxMXB4IDAgMjJweDtvdmVyZmxvdzpoaWRkZW59aW5ze2NvbG9yOiM3Nzc7dGV4dC1kZWNvcmF0aW9uOm5vbmV9YSBpbWd7Ym9yZGVyOjB9QG1lZGlhIHNjcmVlbiBhbmQgKG1heC13aWR0aDo3NzJweCl7Ym9keXtiYWNrZ3JvdW5kOm5vbmU7bWFyZ2luLXRvcDowO21heC13aWR0aDpub25lO3BhZGRpbmctcmlnaHQ6MH19I2xvZ297YmFja2dyb3VuZDp1cmwoLy93d3cuZ29vZ2xlLmNvbS9pbWFnZXMvbG9nb3MvZXJyb3JwYWdlL2Vycm9yX2xvZ28tMTUweDU0LnBuZykgbm8tcmVwZWF0O21hcmdpbi1sZWZ0Oi01cHh9QG1lZGlhIG9ubHkgc2NyZWVuIGFuZCAobWluLXJlc29sdXRpb246MTkyZHBpKXsjbG9nb3tiYWNrZ3JvdW5kOnVybCgvL3d3dy5nb29nbGUuY29tL2ltYWdlcy9sb2dvcy9lcnJvcnBhZ2UvZXJyb3JfbG9nby0xNTB4NTQtMngucG5nKSBuby1yZXBlYXQgMCUgMCUvMTAwJSAxMDAlOy1tb3otYm9yZGVyLWltYWdlOnVybCgvL3d3dy5nb29nbGUuY29tL2ltYWdlcy9sb2dvcy9lcnJvcnBhZ2UvZXJyb3JfbG9nby0xNTB4NTQtMngucG5nKSAwfX1AbWVkaWEgb25seSBzY3JlZW4gYW5kICgtd2Via2l0LW1pbi1kZXZpY2UtcGl4ZWwtcmF0aW86Mil7I2xvZ297YmFja2dyb3VuZDp1cmwoLy93d3cuZ29vZ2xlLmNvbS9pbWFnZXMvbG9nb3MvZXJyb3JwYWdlL2Vycm9yX2xvZ28tMTUweDU0LTJ4LnBuZykgbm8tcmVwZWF0Oy13ZWJraXQtYmFja2dyb3VuZC1zaXplOjEwMCUgMTAwJX19I2xvZ297ZGlzcGxheTppbmxpbmUtYmxvY2s7aGVpZ2h0OjU0cHg7d2lkdGg6MTUwcHh9CiAgPC9zdHlsZT4KICA8YSBocmVmPS8vd3d3Lmdvb2dsZS5jb20vPjxzcGFuIGlkPWxvZ28gYXJpYS1sYWJlbD1Hb29nbGU+PC9zcGFuPjwvYT4KICA8cD48Yj40MDQuPC9iPiA8aW5zPlRoYXTigJlzIGFuIGVycm9yLjwvaW5zPgogIDxwPiAgPGlucz5UaGF04oCZcyBhbGwgd2Uga25vdy48L2lucz4K",
              "ok": false,
              "headers": [
                [
                  "content-length",
                  "1449"
                ],
                [
                  "content-type",
                  "text/html; charset=utf-8"
                ]
              ],
              "status": 404,
              "status_text": "Not Found"
            }
          },
          "base_uri": "https://localhost:8080/",
          "height": 36
        }
      },
      "source": [
        "from IPython.display import HTML\n",
        "HTML('<img src=\"../data/images/svm_poly.gif\">')"
      ],
      "execution_count": 0,
      "outputs": [
        {
          "output_type": "execute_result",
          "data": {
            "text/html": [
              "<img src=\"../data/images/svm_poly.gif\">"
            ],
            "text/plain": [
              "<IPython.core.display.HTML object>"
            ]
          },
          "metadata": {
            "tags": []
          },
          "execution_count": 4
        }
      ]
    },
    {
      "cell_type": "code",
      "metadata": {
        "id": "117CekvKPGsc",
        "colab_type": "code",
        "colab": {}
      },
      "source": [
        "from __future__ import absolute_import, division, print_function, unicode_literals\n",
        "\n",
        "import os, sys\n",
        "from os.path import abspath\n",
        "\n",
        "module_path = os.path.abspath(os.path.join('..'))\n",
        "if module_path not in sys.path:\n",
        "    sys.path.append(module_path)\n",
        "\n",
        "from sklearn.svm import SVC, LinearSVC\n",
        "from sklearn.datasets import load_iris\n",
        "\n",
        "import numpy as np\n",
        "from matplotlib import pyplot as plt\n",
        "\n",
        "from art.classifiers import SklearnClassifier\n",
        "from art.attacks import PoisoningAttackSVM\n",
        "\n",
        "np.random.seed(301)"
      ],
      "execution_count": 0,
      "outputs": []
    },
    {
      "cell_type": "markdown",
      "metadata": {
        "id": "f1MILjBSPGsf",
        "colab_type": "text"
      },
      "source": [
        "## Utility Functions"
      ]
    },
    {
      "cell_type": "code",
      "metadata": {
        "id": "1PgRcV2bPGsg",
        "colab_type": "code",
        "colab": {}
      },
      "source": [
        "def find_duplicates(x_train):\n",
        "    \"\"\"\n",
        "    Returns an array of booleans that is true if that element was previously in the array\n",
        "\n",
        "    :param x_train: training data\n",
        "    :type x_train: `np.ndarray`\n",
        "    :return: duplicates array\n",
        "    :rtype: `np.ndarray`\n",
        "    \"\"\"\n",
        "    dup = np.zeros(x_train.shape[0])\n",
        "    for idx, x in enumerate(x_train):\n",
        "        dup[idx] = np.isin(x_train[:idx], x).all(axis=1).any()\n",
        "    return dup"
      ],
      "execution_count": 0,
      "outputs": []
    },
    {
      "cell_type": "code",
      "metadata": {
        "id": "QYEKLT0pPGsj",
        "colab_type": "code",
        "colab": {}
      },
      "source": [
        "def get_data():\n",
        "    iris = load_iris()\n",
        "    X = iris.data\n",
        "    y = iris.target\n",
        "    \n",
        "    X = X[y != 0, :2]\n",
        "    y = y[y != 0]\n",
        "    labels = np.zeros((y.shape[0], 2))\n",
        "    labels[y == 2] = np.array([1, 0])\n",
        "    labels[y == 1] = np.array([0, 1])\n",
        "    y = labels\n",
        "    \n",
        "    n_sample = len(X)\n",
        "    \n",
        "    order = np.random.permutation(n_sample)\n",
        "    X = X[order]\n",
        "    y = y[order].astype(np.float)\n",
        "    \n",
        "    X_train = X[:int(.9 * n_sample)]\n",
        "    y_train = y[:int(.9 * n_sample)]\n",
        "    train_dups = find_duplicates(X_train)\n",
        "    X_train = X_train[train_dups == False]\n",
        "    y_train = y_train[train_dups == False]\n",
        "    X_test = X[int(.9 * n_sample):]\n",
        "    y_test = y[int(.9 * n_sample):]\n",
        "    test_dups = find_duplicates(X_test)\n",
        "    X_test = X_test[test_dups == False]\n",
        "    y_test = y_test[test_dups == False]\n",
        "    return X_train, y_train, X_test, y_test"
      ],
      "execution_count": 0,
      "outputs": []
    },
    {
      "cell_type": "code",
      "metadata": {
        "id": "ZafC_gDiPGsn",
        "colab_type": "code",
        "colab": {}
      },
      "source": [
        "def get_adversarial_examples(x_train, y_train, attack_idx, x_val, y_val, kernel):\n",
        "    # Create ART classfier for scikit-learn SVC\n",
        "    art_classifier = SklearnClassifier(model=SVC(kernel=kernel), clip_values=(0, 10))\n",
        "    art_classifier.fit(x_train, y_train)\n",
        "    init_attack = np.copy(x_train[attack_idx])\n",
        "    y_attack = np.array([1, 1]) - np.copy(y_train[attack_idx])\n",
        "    attack = PoisoningAttackSVM(art_classifier, 0.001, 1.0, x_train, y_train, x_val, y_val, max_iters=100)\n",
        "    final_attack = attack.generate(np.array([init_attack]), y=np.array([y_attack]))\n",
        "    return final_attack, art_classifier"
      ],
      "execution_count": 0,
      "outputs": []
    },
    {
      "cell_type": "code",
      "metadata": {
        "id": "31a-zLHNPGst",
        "colab_type": "code",
        "colab": {}
      },
      "source": [
        "def plot_results(model, x_train, y_train, x_train_adv, title):\n",
        "    import matplotlib.pyplot as plt\n",
        "    import warnings\n",
        "    warnings.filterwarnings(\"ignore\")\n",
        "\n",
        "    plt.figure()\n",
        "    plt.clf()\n",
        "\n",
        "    get_color = lambda idx: 'orange' if np.argmax(idx) == 1 else 'blue'\n",
        "    for i_class_2 in [np.array([0, 1]), np.array([1, 0])]:\n",
        "        mask = np.all(y_train == i_class_2, axis=1)\n",
        "        plt.scatter(x_train[mask][:, 0], x_train[mask][:, 1], s=20, zorder=2, c=get_color(i_class_2))\n",
        "    # plt.axes.set_aspect('equal', adjustable='box')\n",
        "\n",
        "    for sv in model.support_vectors_:\n",
        "        plt.scatter(sv[0], sv[1], s=200, linewidth=1, facecolors='none', edgecolors='lightgreen',\n",
        "                             zorder=2)\n",
        "    h = .01\n",
        "    x_min, x_max = 1.5, 8.5\n",
        "    y_min, y_max = 0, 7\n",
        "\n",
        "    xx, yy = np.meshgrid(np.arange(x_min, x_max, h), np.arange(y_min, y_max, h))\n",
        "\n",
        "    Z = model.decision_function(np.c_[xx.ravel(), yy.ravel()])\n",
        "    Z = Z.reshape(xx.shape)\n",
        "    plt.pcolormesh(xx, yy, Z > 0, cmap=plt.cm.Paired)\n",
        "    plt.contour(xx, yy, Z, colors=['k', 'k', 'k'],\n",
        "                linestyles=['--', '-', '--'], levels=[-.5, 0, .5])\n",
        "\n",
        "    x_values = []\n",
        "    y_values = []\n",
        "    for adv in x_train_adv:\n",
        "        x_values.append(adv[0, 0])\n",
        "        y_values.append(adv[0, 1])\n",
        "    x_values = np.array(x_values)\n",
        "    y_values = np.array(y_values)\n",
        "    plt.scatter(x_values, y_values, zorder=2,\n",
        "                         c='red', marker='X')\n",
        "    plt.axes().set_xlim((x_min, x_max))\n",
        "    plt.axes().set_ylim((y_min, y_max))\n",
        "\n",
        "    plt.axes().set_title(title)\n",
        "    plt.axes().set_xlabel('feature 1')\n",
        "    plt.axes().set_ylabel('feature 2')"
      ],
      "execution_count": 0,
      "outputs": []
    },
    {
      "cell_type": "markdown",
      "metadata": {
        "id": "Ln_B9VYbPGsx",
        "colab_type": "text"
      },
      "source": [
        "## Load Data\n",
        "\n",
        "In this example, we take two features from the IRIS dataset and train an SVM."
      ]
    },
    {
      "cell_type": "code",
      "metadata": {
        "id": "SnTR7nUzPGsy",
        "colab_type": "code",
        "colab": {}
      },
      "source": [
        "train_data, train_labels, test_data, test_labels = get_data()"
      ],
      "execution_count": 0,
      "outputs": []
    },
    {
      "cell_type": "markdown",
      "metadata": {
        "id": "t-x0XJiJPGs0",
        "colab_type": "text"
      },
      "source": [
        "## Visualize Effect of Attack on SVM\n",
        "\n",
        "After training the SVM on just one attack point, a noticable change occurs in the decision boundary for the classifier."
      ]
    },
    {
      "cell_type": "code",
      "metadata": {
        "id": "qqGjciK_PGs1",
        "colab_type": "code",
        "outputId": "fa1bd09e-2f38-4566-d6e7-79d37cfa0d81",
        "colab": {
          "base_uri": "https://localhost:8080/",
          "height": 645
        }
      },
      "source": [
        "kernel = 'linear' # one of ['linear', 'poly', 'rbf']\n",
        "\n",
        "attack_point, poisoned = get_adversarial_examples(train_data, train_labels, 0, test_data, test_labels, kernel)\n",
        "clean = SVC(kernel=kernel)\n",
        "art_clean = SklearnClassifier(clean, clip_values=(0, 10))\n",
        "art_clean.fit(x=train_data, y=train_labels)\n",
        "\n",
        "plot_results(art_clean._model, train_data, train_labels, [], \"SVM Before Attack\")\n",
        "plot_results(poisoned._model, train_data, train_labels, [attack_point], \"SVM After Poison\")\n",
        "\n",
        "clean_acc_train = np.average(np.all(art_clean.predict(train_data) == train_labels, axis=1))\n",
        "poison_acc_train = np.average(np.all(poisoned.predict(train_data) == train_labels, axis=1))\n",
        "clean_acc_test = np.average(np.all(art_clean.predict(test_data) == test_labels, axis=1))\n",
        "poison_acc_test = np.average(np.all(poisoned.predict(test_data) == test_labels, axis=1))\n",
        "\n",
        "print(\"Clean model accuracy on train set ({} samples): {}\".format(len(train_labels), clean_acc_train))\n",
        "print(\"Poison model accuracy on train set ({} samples): {}\".format(len(train_labels), poison_acc_train))\n",
        "print(\"Clean model accuracy on test set ({} samples): {}\".format(len(test_labels), clean_acc_test))\n",
        "print(\"Poison model accuracy on test set ({} samples): {}\".format(len(test_labels), poison_acc_test))"
      ],
      "execution_count": 0,
      "outputs": [
        {
          "output_type": "stream",
          "text": [
            "Clean model accuracy on train set (68 samples): 0.7352941176470589\n",
            "Poison model accuracy on train set (68 samples): 0.7352941176470589\n",
            "Clean model accuracy on test set (10 samples): 0.6\n",
            "Poison model accuracy on test set (10 samples): 0.6\n"
          ],
          "name": "stdout"
        },
        {
          "output_type": "display_data",
          "data": {
            "image/png": "[encoded data removed]",
            "text/plain": [
              "<Figure size 432x288 with 1 Axes>"
            ]
          },
          "metadata": {
            "tags": []
          }
        },
        {
          "output_type": "display_data",
          "data": {
            "image/png": "[encoded data removed]",
            "text/plain": [
              "<Figure size 432x288 with 1 Axes>"
            ]
          },
          "metadata": {
            "tags": []
          }
        }
      ]
    },
    {
      "cell_type": "markdown",
      "metadata": {
        "id": "L2l9BbRZPGs6",
        "colab_type": "text"
      },
      "source": [
        "A perfect classifier would have all points in yellow on the orange side of the decision boundary and all points in blue on the light blue side of the decision boundary. The attack point is shown in red and support vectors are circled.\n",
        "\n",
        "Even with small changes in overall accuracy, inserting just a *single* poison point can have major impacts on the model's ability to generalize well. "
      ]
    },
    {
      "cell_type": "code",
      "metadata": {
        "id": "tRxWvSBYPGs8",
        "colab_type": "code",
        "colab": {}
      },
      "source": [
        ""
      ],
      "execution_count": 0,
      "outputs": []
    }
  ]
}